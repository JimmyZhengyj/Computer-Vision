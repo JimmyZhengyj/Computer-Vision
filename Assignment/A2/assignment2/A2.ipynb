{
 "cells": [
  {
   "cell_type": "code",
   "execution_count": 1,
   "source": [
    "# import Torch packages and its submodules\n",
    "import torch\n",
    "from torch import nn, optim\n",
    "\n",
    "# import TorchVision and its submodules\n",
    "import torch.nn.functional as F\n",
    "from torchvision import datasets, transforms\n",
    "\n",
    "# import other packages\n",
    "import numpy as np\n",
    "import math\n",
    "\n",
    "import matplotlib\n",
    "from matplotlib import pyplot as plt\n"
   ],
   "outputs": [],
   "metadata": {}
  },
  {
   "cell_type": "markdown",
   "source": [
    "Task1"
   ],
   "metadata": {}
  },
  {
   "cell_type": "code",
   "execution_count": 19,
   "source": [
    "# Define a transform to tensor gray data\n",
    "transform = transforms.Compose([transforms.Grayscale(),transforms.ToTensor(),])\n",
    "PATH = \"notMNIST_small\"\n",
    "# Put data into dataloader\n",
    "dataset = datasets.ImageFolder(root=PATH, transform=transform)\n",
    "dataloader = torch.utils.data.DataLoader(dataset, batch_size=1, shuffle=True)\n",
    "plt.imshow(dataset[0][0].squeeze())\n",
    "plt.show()\n",
    "\n",
    "# split data into training, validation and test set\n",
    "train_set, val_set, test_set = torch.utils.data.random_split(dataset, [15000, 1000, len(dataset) - 16000])\n",
    "\n",
    "train_set = torch.utils.data.DataLoader(train_set, batch_size=1, shuffle=True)\n",
    "val_set = torch.utils.data.DataLoader(val_set, batch_size=1, shuffle=True)\n",
    "test_set = torch.utils.data.DataLoader(test_set, batch_size=1, shuffle=True)\n"
   ],
   "outputs": [
    {
     "output_type": "display_data",
     "data": {
      "image/png": "[encoded data removed]",
      "text/plain": [
       "<Figure size 432x288 with 1 Axes>"
      ]
     },
     "metadata": {
      "needs_background": "light"
     }
    }
   ],
   "metadata": {}
  },
  {
   "cell_type": "markdown",
   "source": [
    "Task 2 3 4"
   ],
   "metadata": {}
  },
  {
   "cell_type": "code",
   "execution_count": 4,
   "source": [
    "# model\n",
    "class Net1(nn.Module):\n",
    "    def __init__(self):\n",
    "        super(Net1, self).__init__()\n",
    "        self.relu = nn.ReLU()\n",
    "        self.fc1 = nn.Linear(28*28, 1000)\n",
    "        self.fc2 = nn.Linear(1000, 10)\n",
    "\n",
    "    def forward(self, x):\n",
    "        x = self.fc1(x)\n",
    "        x = self.relu(x)\n",
    "        x = self.fc2(x)\n",
    "        return F.softmax(x)"
   ],
   "outputs": [],
   "metadata": {}
  },
  {
   "cell_type": "code",
   "execution_count": 54,
   "source": [
    "model = nn.Sequential(nn.Linear(784,500),\n",
    "                      nn.ReLU(),\n",
    "                      nn.Linear(500,500),\n",
    "                      nn.ReLU(),\n",
    "                      nn.Linear(500, 10),\n",
    "                      nn.Softmax())\n",
    "\n",
    "# Define the loss\n",
    "criterion = nn.CrossEntropyLoss()\n",
    "# Optimizers require the parameters to optimize and a learning rate\n",
    "optimizer = optim.SGD(model.parameters(), lr=0.01)\n",
    "\n",
    "train_loss = []\n",
    "train_acc = []\n",
    "val_loss = []\n",
    "val_acc = []\n",
    "test_loss = []\n",
    "test_acc = []\n",
    "\n",
    "epochs = 10\n",
    "for e in range(epochs):\n",
    "    counter = 0\n",
    "    running_loss = 0\n",
    "    for images, labels in train_set:\n",
    "        counter += 1\n",
    "\n",
    "        # Flatten MNIST images into a 784 long vector\n",
    "        images = images.view(images.shape[0], -1)\n",
    "    \n",
    "        # Training pass\n",
    "        optimizer.zero_grad()\n",
    "        \n",
    "        output = model(images)\n",
    "        loss = criterion(output, labels)\n",
    "        loss.backward()\n",
    "        optimizer.step()\n",
    "        \n",
    "        running_loss += loss.item()\n",
    "    train_loss.append(running_loss/len(train_set.dataset))\n",
    "\n",
    "    # train accuracy\n",
    "    accuracy = 0\n",
    "\n",
    "    for images, labels in train_set:\n",
    "        images = images.view(images.shape[0], -1)\n",
    "        pred = model(images)\n",
    "\n",
    "        top_p, top_class = pred.topk(1, dim=1)\n",
    "        for i in range(len(labels)):\n",
    "            if top_class[i].item() == labels[i]:\n",
    "                accuracy += 1\n",
    "    train_acc.append(accuracy/len(train_set.dataset))\n",
    "    print(f\"Epoch {e+1}, Training loss: {running_loss/len(train_set.dataset)}, Train accuracy: {accuracy/len(train_set.dataset)}\")  \n",
    "\n",
    "    # valid error\n",
    "    accuracy = 0\n",
    "    val_running_loss = 0\n",
    "\n",
    "    for images, labels in val_set:\n",
    "        images = images.view(images.shape[0], -1)\n",
    "        pred = model(images)\n",
    "        loss = criterion(pred, labels)\n",
    "        val_running_loss += loss\n",
    "\n",
    "        top_p, top_class = pred.topk(1, dim=1)\n",
    "        for i in range(len(labels)):\n",
    "            if top_class[i].item() == labels[i]:\n",
    "                accuracy += 1\n",
    "        \n",
    "    print(\"Epoch {}, Valid Loss: {}, Valid Accuracy: {:.3f}\".format(e+1, val_running_loss/len(val_set.dataset), accuracy/len(val_set.dataset)))\n",
    "    val_loss.append(val_running_loss/len(val_set.dataset))\n",
    "    val_acc.append(accuracy/len(val_set.dataset))\n",
    "\n",
    "    # # test error\n",
    "    # accuracy = 0\n",
    "    # test_running_loss = 0\n",
    "\n",
    "    # for images, labels in test_set:\n",
    "    #     images = images.view(images.shape[0], -1)\n",
    "    #     pred = model(images)\n",
    "    #     loss = criterion(pred, labels)\n",
    "    #     test_running_loss += loss\n",
    "\n",
    "    #     # get the predictions: argmax etc.\n",
    "    #     top_p, top_class = pred.topk(1, dim=1)\n",
    "    #     for i in range(len(labels)):\n",
    "    #         if top_class[i].item() == labels[i]:\n",
    "    #             accuracy += 1\n",
    "\n",
    "    # print(\"Epoch {}, Test Loss: {}, Test Accuracy: {:.3f}\".format(e+1, test_running_loss/len(test_set.dataset), accuracy/len(test_set.dataset)))\n",
    "    # test_loss.append(test_running_loss/ len(test_set.dataset))\n",
    "    # test_acc.append(accuracy/len(test_set.dataset))\n",
    "\n"
   ],
   "outputs": [
    {
     "output_type": "stream",
     "name": "stderr",
     "text": [
      "/Users/jimmyzheng/opt/anaconda3/lib/python3.7/site-packages/torch/nn/modules/container.py:100: UserWarning: Implicit dimension choice for softmax has been deprecated. Change the call to include dim=X as an argument.\n",
      "  input = module(input)\n"
     ]
    },
    {
     "output_type": "stream",
     "name": "stdout",
     "text": [
      "Epoch 1, Training loss: 1.7909219048817953, Train accuracy: 0.7986666666666666\n",
      "Epoch 1, Valid Loss: 1.6730022430419922, Valid Accuracy: 0.789\n",
      "Epoch 2, Training loss: 1.6654353649218878, Train accuracy: 0.8032\n",
      "Epoch 2, Valid Loss: 1.6557978391647339, Valid Accuracy: 0.804\n",
      "Epoch 3, Training loss: 1.6405191870053608, Train accuracy: 0.9042\n",
      "Epoch 3, Valid Loss: 1.578701376914978, Valid Accuracy: 0.883\n",
      "Epoch 4, Training loss: 1.5655361478090286, Train accuracy: 0.9088666666666667\n",
      "Epoch 4, Valid Loss: 1.5732589960098267, Valid Accuracy: 0.889\n",
      "Epoch 5, Training loss: 1.5561897614955902, Train accuracy: 0.9174\n",
      "Epoch 5, Valid Loss: 1.5690351724624634, Valid Accuracy: 0.891\n",
      "Epoch 6, Training loss: 1.5487092996994654, Train accuracy: 0.916\n",
      "Epoch 6, Valid Loss: 1.5605688095092773, Valid Accuracy: 0.902\n",
      "Epoch 7, Training loss: 1.544945517897606, Train accuracy: 0.9206666666666666\n",
      "Epoch 7, Valid Loss: 1.5636616945266724, Valid Accuracy: 0.897\n",
      "Epoch 8, Training loss: 1.5407059283892313, Train accuracy: 0.9114666666666666\n",
      "Epoch 8, Valid Loss: 1.5757527351379395, Valid Accuracy: 0.882\n",
      "Epoch 9, Training loss: 1.5392727221012115, Train accuracy: 0.9298\n",
      "Epoch 9, Valid Loss: 1.5508739948272705, Valid Accuracy: 0.912\n",
      "Epoch 10, Training loss: 1.5345542540391286, Train accuracy: 0.9316\n",
      "Epoch 10, Valid Loss: 1.5597516298294067, Valid Accuracy: 0.903\n"
     ]
    }
   ],
   "metadata": {}
  },
  {
   "cell_type": "code",
   "execution_count": 60,
   "source": [
    "fig, axs = plt.subplots(1,2)\n",
    "axs[0].plot(np.array(train_loss), label = \"Trainging loss\")\n",
    "axs[0].plot(np.array(val_loss), label = \"Valid loss\")\n",
    "# axs[0].plot(np.array(test_loss), label = \"Test Loss\")\n",
    "axs[0].legend()\n",
    "\n",
    "axs[1].plot(train_acc, label = \"Trainging Accuracy\")\n",
    "axs[1].plot(val_acc, label = \"Validation Accuracy\")\n",
    "# axs[1].plot(train_acc, label = \"Trainging Accuracy\")\n",
    "axs[1].legend()"
   ],
   "outputs": [
    {
     "output_type": "execute_result",
     "data": {
      "text/plain": [
       "<matplotlib.legend.Legend at 0x7fad33696410>"
      ]
     },
     "metadata": {},
     "execution_count": 60
    },
    {
     "output_type": "display_data",
     "data": {
      "image/png": "[encoded data removed]",
      "text/plain": [
       "<Figure size 432x288 with 2 Axes>"
      ]
     },
     "metadata": {
      "needs_background": "light"
     }
    }
   ],
   "metadata": {}
  },
  {
   "cell_type": "code",
   "execution_count": 56,
   "source": [
    "# test error\n",
    "accuracy = 0\n",
    "test_running_loss = 0\n",
    "\n",
    "for images, labels in test_set:\n",
    "    images = images.view(images.shape[0], -1)\n",
    "    pred = model(images)\n",
    "    loss = criterion(pred, labels)\n",
    "    test_running_loss += loss\n",
    "\n",
    "    # get the predictions: argmax etc.\n",
    "    top_p, top_class = pred.topk(1, dim=1)\n",
    "    for i in range(len(labels)):\n",
    "        if top_class[i].item() == labels[i]:\n",
    "            accuracy += 1\n",
    "print(accuracy/len(test_set.dataset))"
   ],
   "outputs": [
    {
     "output_type": "stream",
     "name": "stderr",
     "text": [
      "/Users/jimmyzheng/opt/anaconda3/lib/python3.7/site-packages/torch/nn/modules/container.py:100: UserWarning: Implicit dimension choice for softmax has been deprecated. Change the call to include dim=X as an argument.\n",
      "  input = module(input)\n"
     ]
    },
    {
     "output_type": "stream",
     "name": "stdout",
     "text": [
      "0.9001468428781204\n"
     ]
    }
   ],
   "metadata": {}
  },
  {
   "cell_type": "markdown",
   "source": [
    "Task 5 Dropout"
   ],
   "metadata": {}
  },
  {
   "cell_type": "code",
   "execution_count": 57,
   "source": [
    "model = nn.Sequential(nn.Linear(784,1000),\n",
    "                      nn.ReLU(),\n",
    "                      nn.Dropout(0.5),\n",
    "                      nn.Linear(1000, 10),\n",
    "                      nn.Softmax())\n",
    "\n",
    "# Define the loss\n",
    "criterion = nn.CrossEntropyLoss()\n",
    "# Optimizers require the parameters to optimize and a learning rate\n",
    "optimizer = optim.SGD(model.parameters(), lr=0.01)\n",
    "\n",
    "train_loss = []\n",
    "train_acc = []\n",
    "val_loss = []\n",
    "val_acc = []\n",
    "test_loss = []\n",
    "test_acc = []\n",
    "\n",
    "epochs = 10\n",
    "for e in range(epochs):\n",
    "    model.train()\n",
    "    counter = 0\n",
    "    running_loss = 0\n",
    "    for images, labels in train_set:\n",
    "        counter += 1\n",
    "\n",
    "        # Flatten MNIST images into a 784 long vector\n",
    "        images = images.view(images.shape[0], -1)\n",
    "    \n",
    "        # Training pass\n",
    "        optimizer.zero_grad()\n",
    "        \n",
    "        output = model(images)\n",
    "        loss = criterion(output, labels)\n",
    "        loss.backward()\n",
    "        optimizer.step()\n",
    "\n",
    "        running_loss += loss.item()\n",
    "    train_loss.append(running_loss/len(train_set.dataset))\n",
    "\n",
    "    # train accuracy\n",
    "    accuracy = 0\n",
    "\n",
    "    for images, labels in train_set:\n",
    "        images = images.view(images.shape[0], -1)\n",
    "        pred = model(images)\n",
    "\n",
    "        top_p, top_class = pred.topk(1, dim=1)\n",
    "        for i in range(len(labels)):\n",
    "            if top_class[i].item() == labels[i]:\n",
    "                accuracy += 1\n",
    "    train_acc.append(accuracy/len(train_set.dataset))\n",
    "    print(f\"Epoch {e+1}, Training loss: {running_loss/len(train_set.dataset)}, Train accuracy: {accuracy/len(train_set.dataset)}\")  \n",
    "\n",
    "    model.eval()\n",
    "    # valid error\n",
    "    accuracy = 0\n",
    "    val_running_loss = 0\n",
    "\n",
    "    for images, labels in val_set:\n",
    "        images = images.view(images.shape[0], -1)\n",
    "        pred = model(images)\n",
    "        loss = criterion(pred, labels)\n",
    "        val_running_loss += loss\n",
    "\n",
    "        top_p, top_class = pred.topk(1, dim=1)\n",
    "        for i in range(len(labels)):\n",
    "            if top_class[i].item() == labels[i]:\n",
    "                accuracy += 1\n",
    "        \n",
    "    print(\"Epoch {}, Valid Loss: {}, Valid Accuracy: {:.3f}\".format(e+1, val_running_loss/len(val_set.dataset), accuracy/len(val_set.dataset)))\n",
    "    val_loss.append(val_running_loss/len(val_set.dataset))\n",
    "    val_acc.append(accuracy/len(val_set.dataset))"
   ],
   "outputs": [
    {
     "output_type": "stream",
     "name": "stderr",
     "text": [
      "/Users/jimmyzheng/opt/anaconda3/lib/python3.7/site-packages/torch/nn/modules/container.py:100: UserWarning: Implicit dimension choice for softmax has been deprecated. Change the call to include dim=X as an argument.\n",
      "  input = module(input)\n"
     ]
    },
    {
     "output_type": "stream",
     "name": "stdout",
     "text": [
      "Epoch 1, Training loss: 1.7415115685621898, Train accuracy: 0.7988\n",
      "Epoch 1, Valid Loss: 1.6610021591186523, Valid Accuracy: 0.804\n",
      "Epoch 2, Training loss: 1.6674253222465516, Train accuracy: 0.8041333333333334\n",
      "Epoch 2, Valid Loss: 1.6521915197372437, Valid Accuracy: 0.810\n",
      "Epoch 3, Training loss: 1.6555689032475154, Train accuracy: 0.8118666666666666\n",
      "Epoch 3, Valid Loss: 1.652296781539917, Valid Accuracy: 0.808\n",
      "Epoch 4, Training loss: 1.6083592546145122, Train accuracy: 0.8991333333333333\n",
      "Epoch 4, Valid Loss: 1.5752291679382324, Valid Accuracy: 0.887\n",
      "Epoch 5, Training loss: 1.5656225205024084, Train accuracy: 0.9008\n",
      "Epoch 5, Valid Loss: 1.5781995058059692, Valid Accuracy: 0.886\n",
      "Epoch 6, Training loss: 1.560445082449913, Train accuracy: 0.9087333333333333\n",
      "Epoch 6, Valid Loss: 1.5652483701705933, Valid Accuracy: 0.901\n",
      "Epoch 7, Training loss: 1.5570362313508987, Train accuracy: 0.915\n",
      "Epoch 7, Valid Loss: 1.5637155771255493, Valid Accuracy: 0.897\n",
      "Epoch 8, Training loss: 1.5526984762827556, Train accuracy: 0.9148666666666667\n",
      "Epoch 8, Valid Loss: 1.563943862915039, Valid Accuracy: 0.898\n",
      "Epoch 9, Training loss: 1.548561322983106, Train accuracy: 0.9210666666666667\n",
      "Epoch 9, Valid Loss: 1.5637186765670776, Valid Accuracy: 0.903\n",
      "Epoch 10, Training loss: 1.5474256283998489, Train accuracy: 0.9186\n",
      "Epoch 10, Valid Loss: 1.5665515661239624, Valid Accuracy: 0.893\n"
     ]
    }
   ],
   "metadata": {}
  },
  {
   "cell_type": "code",
   "execution_count": 59,
   "source": [
    "# test error\n",
    "accuracy = 0\n",
    "test_running_loss = 0\n",
    "\n",
    "for images, labels in test_set:\n",
    "    images = images.view(images.shape[0], -1)\n",
    "    pred = model(images)\n",
    "    loss = criterion(pred, labels)\n",
    "    test_running_loss += loss\n",
    "\n",
    "    # get the predictions: argmax etc.\n",
    "    top_p, top_class = pred.topk(1, dim=1)\n",
    "    for i in range(len(labels)):\n",
    "        if top_class[i].item() == labels[i]:\n",
    "            accuracy += 1\n",
    "print(accuracy/len(test_set.dataset))"
   ],
   "outputs": [
    {
     "output_type": "stream",
     "name": "stderr",
     "text": [
      "/Users/jimmyzheng/opt/anaconda3/lib/python3.7/site-packages/torch/nn/modules/container.py:100: UserWarning: Implicit dimension choice for softmax has been deprecated. Change the call to include dim=X as an argument.\n",
      "  input = module(input)\n"
     ]
    },
    {
     "output_type": "stream",
     "name": "stdout",
     "text": [
      "0.9107929515418502\n"
     ]
    }
   ],
   "metadata": {}
  }
 ],
 "metadata": {
  "orig_nbformat": 4,
  "language_info": {
   "name": "python",
   "version": "3.7.6",
   "mimetype": "text/x-python",
   "codemirror_mode": {
    "name": "ipython",
    "version": 3
   },
   "pygments_lexer": "ipython3",
   "nbconvert_exporter": "python",
   "file_extension": ".py"
  },
  "kernelspec": {
   "name": "python3",
   "display_name": "Python 3.7.6 64-bit ('base': conda)"
  },
  "interpreter": {
   "hash": "f3cff9a779be5b794f86c38feaf44c11d9f2b8a8859daea37525ba1a6356b5a6"
  }
 },
 "nbformat": 4,
 "nbformat_minor": 2
}