{
 "cells": [
  {
   "cell_type": "code",
   "execution_count": 8,
   "metadata": {},
   "outputs": [
    {
     "name": "stdout",
     "output_type": "stream",
     "text": [
      "3.0\n"
     ]
    }
   ],
   "source": [
    "\n",
    "def findMedianSortedArrays(nums1, nums2):\n",
    "    \"\"\"\n",
    "    :type nums1: List[int]\n",
    "    :type nums2: List[int]\n",
    "    :rtype: float\n",
    "    \"\"\"\n",
    "    result = []\n",
    "    n = len(nums1) + len(nums2)\n",
    "    i = 0\n",
    "    j = 0\n",
    "    for _ in range(n):\n",
    "        if i < len(nums1) and j <len(nums2):\n",
    "            if nums1[i] <= nums2[j]:\n",
    "                result.append(nums1[i])\n",
    "                i+=1\n",
    "            else:\n",
    "                result.append(nums2[j])\n",
    "                j+=1\n",
    "        if i == len(nums1) and j != len(nums2):\n",
    "            result.append(nums2[j])\n",
    "            j+=1\n",
    "        if i != len(nums1) and j == len(nums2):\n",
    "            result.append(nums1[i])\n",
    "            i+=1\n",
    "\n",
    "    if n % 2 != 0:\n",
    "        return result[(n-1)/2]\n",
    "    else:\n",
    "        return (result[int(n/2)] + result[int(n/2-1)])/2\n",
    "        \n",
    "\n",
    "num1 = [1,9]\n",
    "num2 = [2,4]\n",
    "print(findMedianSortedArrays(num1,num2))"
   ]
  },
  {
   "cell_type": "code",
   "execution_count": 4,
   "metadata": {},
   "outputs": [
    {
     "name": "stdout",
     "output_type": "stream",
     "text": [
      "[13]\n"
     ]
    }
   ],
   "source": [
    "\n",
    "def findSubstring(s, words) :\n",
    "    k = len(words[0])\n",
    "    temp = []\n",
    "    index_list = []\n",
    "    result = []\n",
    "    temp_words = words.copy()\n",
    "    i = 0\n",
    "    while i < len(s):\n",
    "        if s[i:i+k] not in words:\n",
    "            i+=1\n",
    "            temp_words = words.copy()\n",
    "            index_list = []\n",
    "            temp = []\n",
    "            continue\n",
    "        if s[i:i+k] in temp_words:\n",
    "            temp.append(s[i:i+k])\n",
    "            index_list.append(i)\n",
    "            ind= temp_words.index(s[i:i+k])\n",
    "            temp_words.pop(ind)\n",
    "            if len(temp) == len(words):\n",
    "                result.append(index_list.pop(0))\n",
    "                t = temp.pop(0)\n",
    "                temp_words.append(t)\n",
    "        else:\n",
    "            if s[i:i+k] in temp:\n",
    "                index = temp.index(s[i:i+k])\n",
    "                for _ in range(index+1):\n",
    "                    t = temp.pop(0)\n",
    "                    temp_words.append(t)\n",
    "                    index_list.pop(0)\n",
    "                temp.append(s[i:i+k])\n",
    "                index_list.append(i)\n",
    "                temp_ind = temp_words.index(s[i:i+k])\n",
    "                temp_words.pop(temp_ind)\n",
    "            else:\n",
    "                temp_words = words.copy()\n",
    "                temp = []\n",
    "                index_list = []\n",
    "        i = i+k\n",
    "    return result\n",
    "\n",
    "s = \"lingmindraboofooowingdingbarrwingmonkeypoundcake\"\n",
    "words = [\"fooo\",\"barr\",\"wing\",\"ding\",\"wing\"]\n",
    "print(findSubstring(s, words))"
   ]
  },
  {
   "cell_type": "code",
   "execution_count": 59,
   "metadata": {},
   "outputs": [
    {
     "name": "stdout",
     "output_type": "stream",
     "text": [
      "vkkv\n"
     ]
    }
   ],
   "source": [
    "def longestPalindrome(s: str) -> str:\n",
    "    if s is \"\":\n",
    "        return s\n",
    "    result = \"\"\n",
    "    dp = [[None for i in range(len(s))] for j in range(len(s))]\n",
    "    for j in range(len(s)):\n",
    "        for i in range(j+1):\n",
    "            if i == j:\n",
    "                dp[j][i] = True\n",
    "            elif j == i+1:\n",
    "                dp[j][i] = (s[i] == s[j])\n",
    "            else:\n",
    "                dp[j][i] = (dp[j-1][i+1] and s[i] == s[j])\n",
    "            if dp[j][i] and j - i + 1 > len(result):\n",
    "                result = s[i:j+1]\n",
    "    return result\n",
    "\n",
    "print(longestPalindrome(\"mqizdjrfqtmcsruvvlhdgzfrmxgmmbguroxcbhalzggxhzwfznfkrdwsvzhieqvsrbyedqxwmnvovvnesphgddoikfwuujrhxwcrbttfbmlayrlmpromlzwzrkjkzdvdkpqtbzszrngczvgspzpfnvwuifzjdrmwfadophxscxtbavrhfkadhxrmvlmofbzqshqxazzwjextdpuszwgrxirmmlqitjjpijptmqfbggkwaolpbdglmsvlwdummsrdyjhmgrasrblpjsrpkkgknsucsshjuxunqiouzrdwwooxclutkrujpfebjpoodvhknayilcxjrvnykfjhvsikjabsdnvgguoiyldshbsmsrrlwmkfmyjbbsylhrusubcglaemnurpuvlyyknbqelmkkyamrcmjbncpafchacckhymtasylyfjuribqxsekbjkgzrvzjmjkquxfwopsbjudggnfbuyyfizefgxamocxjgkwxidkgursrcsjwwyeiymoafgyjlhtcdkgrikzzlenqgtdukivvdsalepyvehaklejxxmmoycrtsvzugudwirgywvsxqapxyjedbdhvkkvrxxsgifcldkspgdnjnnzfalaslwqfylmzvbxuscatomnmgarkvuccblpoktlpnazyeazhfucmfpalbujhzbykdgcirnqivdwxnnuznrwdjslwdwgpvjehqcbtjljnxsebtqujhmteknbinrloregnphwhnfidfsqdtaexencwzszlpmxjicoduejjomqzsmrgdgvlrfcrbyfutidkryspmoyzlgfltclmhaeebfbunrwqytzhuxghxkfwtjrfyxavcjwnvbaydjnarrhiyjavlmfsstewtxrcifcllnugldnfyswnsewqwnvbgtatccfeqyjgqbnufwttaokibyrldhoniwqsflvlwnjmffoirzmoxqxunkuepj\"))"
   ]
  },
  {
   "cell_type": "code",
   "execution_count": 96,
   "metadata": {},
   "outputs": [
    {
     "name": "stdout",
     "output_type": "stream",
     "text": [
      "11\n",
      "12\n"
     ]
    }
   ],
   "source": [
    "def countAndSay( n: int):\n",
    "    if n == 1:\n",
    "        return \"1\"\n",
    "    return countsay(countAndSay(n-1))\n",
    "\n",
    "def countsay(s:str):\n",
    "    result = \"\"\n",
    "    i=0\n",
    "    temp = 0\n",
    "    while i < len(s) and temp != 1:\n",
    "        count =0\n",
    "        for j in range(i, len(s)):\n",
    "            if j == len(s)-1:\n",
    "                temp = 1\n",
    "            if s[j] == s[i]:\n",
    "                count +=1\n",
    "                if j == len(s)-1:\n",
    "                    result += str(count)\n",
    "                    result += str(s[i])\n",
    "            else:\n",
    "                result += str(count)\n",
    "                result += str(s[i])\n",
    "                i =j\n",
    "                break\n",
    "    return result\n",
    "\n",
    "print(countsay(\"12\"))\n",
    "print(countAndSay(4))"
   ]
  },
  {
   "cell_type": "code",
   "execution_count": 147,
   "metadata": {},
   "outputs": [
    {
     "name": "stdout",
     "output_type": "stream",
     "text": [
      "[[1, 1, 2, 5], [1, 1, 7], [1, 2, 6], [2, 7]]\n"
     ]
    }
   ],
   "source": [
    "def combinationSum2(candidates, target: int):\n",
    "    candidates = sorted(candidates)\n",
    "    result = []\n",
    "    if len(candidates) == 0:\n",
    "        return []\n",
    "    if len(candidates) == 1:\n",
    "        return [candidates] if candidates[0] == target else []\n",
    "    appear = []\n",
    "    i = 0\n",
    "    while i < len(candidates):\n",
    "        pivot = candidates[i]\n",
    "        if pivot in appear:\n",
    "            continue\n",
    "        appear.append(pivot)\n",
    "        temp = candidates[i+1:]\n",
    "        if pivot == target and [pivot] not in result:\n",
    "            result.append([pivot])\n",
    "        if combinationSum2(temp, target-pivot) == []:\n",
    "            result.extend(combinationSum2(temp, target))\n",
    "        else:\n",
    "            # for item in combinationSum2(temp, target-pivot):\n",
    "            #     if [[pivot] + item] not in result:\n",
    "            #         result.extend([[pivot] + item])\n",
    "            result.extend([[pivot] + item for item in combinationSum2(temp, target-pivot)])\n",
    "        while i+1 < len(candidates) and candidates[i] == candidates[i+1]:\n",
    "            i += 1\n",
    "        i += 1\n",
    "    not_dup = []\n",
    "    for item in result:\n",
    "        if item not in not_dup:\n",
    "            not_dup.append(item) \n",
    "    return not_dup\n",
    "\n",
    "print(combinationSum2([10,1,2,7,6,1,5], 9))"
   ]
  },
  {
   "cell_type": "code",
   "execution_count": 210,
   "metadata": {},
   "outputs": [
    {
     "name": "stdout",
     "output_type": "stream",
     "text": [
      "2\n"
     ]
    }
   ],
   "source": [
    "def jump(nums):\n",
    "    n =len(nums)\n",
    "    dp = [0]*n\n",
    "    for i in range(n-1,-1,-1):\n",
    "        if i == n-1:\n",
    "            dp[i] = 0\n",
    "        else:\n",
    "            if nums[i] == 0:\n",
    "                dp[i] = n\n",
    "                continue\n",
    "            temp = dp[i+1:] if i+1+nums[i] >=n else dp[i+1:i+1+nums[i]]\n",
    "            dp[i] = 1 + min(temp)\n",
    "    return dp[0]\n",
    "        \n",
    "        \n",
    "\n",
    "print(jump([2,3,0,1,4]))"
   ]
  },
  {
   "cell_type": "code",
   "execution_count": 218,
   "metadata": {},
   "outputs": [
    {
     "name": "stdout",
     "output_type": "stream",
     "text": [
      "2\n",
      "[8, 7, 6, 5, 4, 3, 2]\n",
      "[2, 3, 4, 5, 6, 7]\n"
     ]
    },
    {
     "ename": "IndexError",
     "evalue": "list index out of range",
     "output_type": "error",
     "traceback": [
      "\u001b[0;31m---------------------------------------------------------------------------\u001b[0m",
      "\u001b[0;31mIndexError\u001b[0m                                Traceback (most recent call last)",
      "\u001b[0;32m<ipython-input-218-90441fb5cce4>\u001b[0m in \u001b[0;36m<module>\u001b[0;34m\u001b[0m\n\u001b[1;32m      8\u001b[0m \u001b[0mmatrix\u001b[0m \u001b[0;34m=\u001b[0m \u001b[0;34m[\u001b[0m\u001b[0;34m[\u001b[0m\u001b[0;36m1\u001b[0m\u001b[0;34m,\u001b[0m\u001b[0;36m2\u001b[0m\u001b[0;34m,\u001b[0m\u001b[0;36m3\u001b[0m\u001b[0;34m]\u001b[0m\u001b[0;34m,\u001b[0m\u001b[0;34m[\u001b[0m\u001b[0;36m4\u001b[0m\u001b[0;34m,\u001b[0m\u001b[0;36m5\u001b[0m\u001b[0;34m,\u001b[0m\u001b[0;36m6\u001b[0m\u001b[0;34m]\u001b[0m\u001b[0;34m,\u001b[0m\u001b[0;34m[\u001b[0m\u001b[0;36m7\u001b[0m\u001b[0;34m,\u001b[0m\u001b[0;36m8\u001b[0m\u001b[0;34m,\u001b[0m\u001b[0;36m9\u001b[0m\u001b[0;34m]\u001b[0m\u001b[0;34m]\u001b[0m\u001b[0;34m\u001b[0m\u001b[0;34m\u001b[0m\u001b[0m\n\u001b[1;32m      9\u001b[0m \u001b[0mmatrix\u001b[0m \u001b[0;34m=\u001b[0m \u001b[0;34m[\u001b[0m\u001b[0;36m5\u001b[0m\u001b[0;34m]\u001b[0m\u001b[0;34m\u001b[0m\u001b[0;34m\u001b[0m\u001b[0m\n\u001b[0;32m---> 10\u001b[0;31m \u001b[0mprint\u001b[0m\u001b[0;34m(\u001b[0m\u001b[0mlist\u001b[0m\u001b[0;34m(\u001b[0m\u001b[0mmatrix\u001b[0m\u001b[0;34m[\u001b[0m\u001b[0;36m1\u001b[0m\u001b[0;34m:\u001b[0m\u001b[0;34m-\u001b[0m\u001b[0;36m1\u001b[0m\u001b[0;34m]\u001b[0m\u001b[0;34m)\u001b[0m\u001b[0;34m[\u001b[0m\u001b[0;36m0\u001b[0m\u001b[0;34m]\u001b[0m\u001b[0;34m[\u001b[0m\u001b[0;36m1\u001b[0m\u001b[0;34m:\u001b[0m\u001b[0;34m-\u001b[0m\u001b[0;36m1\u001b[0m\u001b[0;34m]\u001b[0m\u001b[0;34m)\u001b[0m\u001b[0;34m\u001b[0m\u001b[0;34m\u001b[0m\u001b[0m\n\u001b[0m",
      "\u001b[0;31mIndexError\u001b[0m: list index out of range"
     ]
    }
   ],
   "source": [
    "a = [1,2,3]\n",
    "print(min(a[1:]))\n",
    "\n",
    "b = [1,2,3,4,5,6,7,8]\n",
    "print(b[-1:0:-1])\n",
    "print(b[1:-1])\n",
    "\n",
    "matrix = [[1,2,3],[4,5,6],[7,8,9]]\n",
    "matrix = [5]\n",
    "print(list(matrix[1:-1])[0][1:-1])"
   ]
  },
  {
   "cell_type": "code",
   "execution_count": 262,
   "metadata": {},
   "outputs": [
    {
     "name": "stdout",
     "output_type": "stream",
     "text": [
      "1243\n"
     ]
    }
   ],
   "source": [
    "import math\n",
    "def getPermutation(n: int, k: int) -> str:\n",
    "    nums = []\n",
    "    for i in range(n+1):\n",
    "        nums.append(str(i))\n",
    "    return getstr(nums[1:],k)\n",
    "\n",
    "def getstr(nums,k):\n",
    "    n = len(nums)\n",
    "    result = \"\"\n",
    "    if k == 1:\n",
    "        for items in nums:\n",
    "            result += items\n",
    "        return result\n",
    "    else:\n",
    "        choice, remain = int(k/math.factorial(n-1)), k % math.factorial(n-1)\n",
    "        if remain == 0:\n",
    "            remain = math.factorial(n-1)\n",
    "            choice = choice -1\n",
    "        pivot = nums[choice]\n",
    "        nums.pop(choice)\n",
    "        return pivot + getstr(nums,remain)\n",
    "\n",
    "print(getPermutation(4,2))"
   ]
  },
  {
   "cell_type": "code",
   "execution_count": 2,
   "metadata": {},
   "outputs": [
    {
     "name": "stdout",
     "output_type": "stream",
     "text": [
      "c 0\n",
      "r 0\n",
      "c 2\n",
      "r 1\n",
      "c 3\n",
      "r 1\n",
      "c 1\n",
      "r 2\n",
      "c 1\n",
      "r 0\n",
      "c 3\n",
      "r 1\n",
      "c 0\n",
      "r 2\n",
      "c 2\n",
      "r 3\n",
      "c 2\n",
      "r 0\n",
      "c 0\n",
      "r 1\n",
      "c 3\n",
      "r 2\n",
      "c 1\n",
      "r 3\n",
      "c 3\n",
      "r 0\n",
      "c 0\n",
      "r 1\n",
      "c 2\n",
      "r 2\n",
      "c 1\n",
      "r 1\n",
      "2\n"
     ]
    }
   ],
   "source": [
    "def totalNQueens(n: int) -> int:\n",
    "    col = set() \n",
    "    rightd = set() \n",
    "    leftd = set() \n",
    "    result = [0]\n",
    "    \n",
    "    def fillqueen (r): \n",
    "        if r == n: \n",
    "            result[0] += 1\n",
    "            return\n",
    "        for c in range(n): \n",
    "            if c not in col and (r+c) not in rightd and (r-c) not in leftd: \n",
    "                print(\"c\",c)\n",
    "                print(\"r\", r)\n",
    "                col.add(c)\n",
    "                rightd.add(r+c)\n",
    "                leftd.add(r-c)\n",
    "                fillqueen (r+1)\n",
    "                col.remove(c)\n",
    "                rightd.remove(r+c)\n",
    "                leftd.remove(r-c)\n",
    "        \n",
    "    fillqueen(0)\n",
    "    return result[0]\n",
    "\n",
    "print(totalNQueens(4))"
   ]
  }
 ],
 "metadata": {
  "interpreter": {
   "hash": "a17d887aaecf5c6664e30a794016285c941788257519da7555f342fc959ca9d6"
  },
  "kernelspec": {
   "display_name": "Python 3.7.6 64-bit ('base': conda)",
   "language": "python",
   "name": "python3"
  },
  "language_info": {
   "codemirror_mode": {
    "name": "ipython",
    "version": 3
   },
   "file_extension": ".py",
   "mimetype": "text/x-python",
   "name": "python",
   "nbconvert_exporter": "python",
   "pygments_lexer": "ipython3",
   "version": "3.7.6"
  },
  "orig_nbformat": 4
 },
 "nbformat": 4,
 "nbformat_minor": 2
}
